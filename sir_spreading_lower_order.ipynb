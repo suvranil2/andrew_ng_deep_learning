{
  "nbformat": 4,
  "nbformat_minor": 0,
  "metadata": {
    "colab": {
      "name": "sir_spreading_lower_order.ipynb",
      "provenance": [],
      "authorship_tag": "ABX9TyMN+XjZzbCK4dRySiPmb6iA",
      "include_colab_link": true
    },
    "kernelspec": {
      "name": "python3",
      "display_name": "Python 3"
    },
    "language_info": {
      "name": "python"
    }
  },
  "cells": [
    {
      "cell_type": "markdown",
      "metadata": {
        "id": "view-in-github",
        "colab_type": "text"
      },
      "source": [
        "<a href=\"https://colab.research.google.com/github/suvranil2/andrew_ng_deep_learning/blob/main/sir_spreading_lower_order.ipynb\" target=\"_parent\"><img src=\"https://colab.research.google.com/assets/colab-badge.svg\" alt=\"Open In Colab\"/></a>"
      ]
    },
    {
      "cell_type": "code",
      "metadata": {
        "id": "GUerRYSabbGH"
      },
      "source": [
        "import numpy as np\n",
        "from scipy.integrate import odeint\n",
        "import matplotlib.pyplot as plt\n",
        "import networkx as nx\n"
      ],
      "execution_count": null,
      "outputs": []
    },
    {
      "cell_type": "code",
      "metadata": {
        "id": "wF25Lv_XcU7a"
      },
      "source": [
        "N = 100\n",
        "G = nx.barabasi_albert_graph(N,3)\n",
        "a = nx.to_numpy_matrix(G)\n",
        "a = np.array(a)\n"
      ],
      "execution_count": null,
      "outputs": []
    },
    {
      "cell_type": "code",
      "metadata": {
        "id": "v-PBo1SubnQX"
      },
      "source": [
        "def function(z,t,beta,arg):\n",
        "  return -z+beta*(1-z)*(np.matmul(arg,z))"
      ],
      "execution_count": null,
      "outputs": []
    },
    {
      "cell_type": "code",
      "metadata": {
        "id": "N2514oY8c8f8"
      },
      "source": [
        "arg=a\n",
        "t=np.linspace(0, 10, 100)\n",
        "z0=np.ones(N)\n",
        "beta=0.1\n"
      ],
      "execution_count": null,
      "outputs": []
    },
    {
      "cell_type": "code",
      "metadata": {
        "id": "inI1HcRVeVyQ"
      },
      "source": [
        "sol = odeint(function, z0, t,args=(beta,arg))\n"
      ],
      "execution_count": null,
      "outputs": []
    },
    {
      "cell_type": "code",
      "metadata": {
        "colab": {
          "base_uri": "https://localhost:8080/"
        },
        "id": "l7LduZ_AkJgB",
        "outputId": "556e54b3-5a4f-4834-c8d0-afb316a63146"
      },
      "source": [
        "print(sol.shape)"
      ],
      "execution_count": null,
      "outputs": [
        {
          "output_type": "stream",
          "name": "stdout",
          "text": [
            "(100, 100)\n"
          ]
        }
      ]
    },
    {
      "cell_type": "code",
      "metadata": {
        "colab": {
          "base_uri": "https://localhost:8080/",
          "height": 282
        },
        "id": "p9jdfg5EEt65",
        "outputId": "5cbb629b-2aab-4ab9-809b-1b4cdb29094e"
      },
      "source": [
        "plt.scatter(t,sol[:,1])"
      ],
      "execution_count": null,
      "outputs": [
        {
          "output_type": "execute_result",
          "data": {
            "text/plain": [
              "<matplotlib.collections.PathCollection at 0x7fb3291c5310>"
            ]
          },
          "metadata": {},
          "execution_count": 7
        },
        {
          "output_type": "display_data",
          "data": {
            "image/png": "[encoded data removed]",
            "text/plain": [
              "<Figure size 432x288 with 1 Axes>"
            ]
          },
          "metadata": {
            "needs_background": "light"
          }
        }
      ]
    }
  ]
}